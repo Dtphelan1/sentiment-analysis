{
 "cells": [
  {
   "cell_type": "code",
   "execution_count": 1,
   "metadata": {},
   "outputs": [],
   "source": [
    "import numpy as np\n",
    "import pandas as pd\n",
    "import os\n",
    "import sklearn\n",
    "from sklearn.feature_extraction.text import CountVectorizer\n",
    "from sklearn.feature_extraction.text import TfidfVectorizer\n",
    "from sklearn.ensemble import RandomForestClassifier\n",
    "\n",
    "RANDOM_STATE = 123"
   ]
  },
  {
   "cell_type": "markdown",
   "metadata": {},
   "source": [
    "# Setup: Importing the Text\n"
   ]
  },
  {
   "cell_type": "code",
   "execution_count": 2,
   "metadata": {},
   "outputs": [
    {
     "name": "stdout",
     "output_type": "stream",
     "text": [
      "Shape of data\n",
      "---------------\n",
      "x_train_df shape: (2400, 2) \n",
      "y_train_df shape: (2400, 1) \n"
     ]
    }
   ],
   "source": [
    "data_dir = 'data_reviews'\n",
    "x_train_df = pd.read_csv(os.path.join(data_dir, 'x_train.csv'))\n",
    "y_train_df = pd.read_csv(os.path.join(data_dir, 'y_train.csv'))\n",
    "\n",
    "print(\"Shape of data\\n---------------\")\n",
    "print(f\"x_train_df shape: {x_train_df.shape} \")\n",
    "print(f\"y_train_df shape: {y_train_df.shape} \")\n",
    "\n",
    "# Get the text as a list of strings\n",
    "x_train_text = x_train_df['text'].values\n",
    "y_train = y_train_df['is_positive_sentiment'].values"
   ]
  },
  {
   "cell_type": "markdown",
   "metadata": {},
   "source": [
    "## Basic comparison of two vectorizers - one with counts and one using tfidf"
   ]
  },
  {
   "cell_type": "code",
   "execution_count": 7,
   "metadata": {},
   "outputs": [],
   "source": [
    "count_vectorizer = CountVectorizer(stop_words='english')\n",
    "count_vectorizer.fit_transform(x_train_text)\n",
    "x_train_text_count = count_vectorizer.transform(x_train_text).toarray()\n"
   ]
  },
  {
   "cell_type": "code",
   "execution_count": 4,
   "metadata": {
    "scrolled": true
   },
   "outputs": [],
   "source": [
    "# count_vectorizer.vocabulary_"
   ]
  },
  {
   "cell_type": "code",
   "execution_count": 17,
   "metadata": {},
   "outputs": [],
   "source": [
    "tf_vectorizer = TfidfVectorizer(stop_words='english')\n",
    "tf_vectorizer.fit_transform(x_train_text)\n",
    "x_train_text_tf = tf_vectorizer.transform(x_train_text).toarray()"
   ]
  },
  {
   "cell_type": "code",
   "execution_count": 18,
   "metadata": {},
   "outputs": [],
   "source": [
    "# tf_vectorizer.vocabulary_"
   ]
  },
  {
   "cell_type": "markdown",
   "metadata": {},
   "source": [
    "## Train two Random Forests to compare performance\n"
   ]
  },
  {
   "cell_type": "code",
   "execution_count": 19,
   "metadata": {},
   "outputs": [
    {
     "name": "stdout",
     "output_type": "stream",
     "text": [
      "Performance of the count_vectorized random forest\n",
      "0.75\n",
      "Performance of the tfidf_vectorized random forest\n",
      "0.7541666666666667\n",
      "\n",
      "Performance of the count_vectorized random forest\n",
      "0.7770833333333333\n",
      "Performance of the tfidf_vectorized random forest\n",
      "0.7729166666666667\n",
      "\n",
      "Performance of the count_vectorized random forest\n",
      "0.7645833333333333\n",
      "Performance of the tfidf_vectorized random forest\n",
      "0.7395833333333333\n",
      "\n",
      "Performance of the count_vectorized random forest\n",
      "0.7666666666666666\n",
      "Performance of the tfidf_vectorized random forest\n",
      "0.76875\n",
      "\n",
      "Performance of the count_vectorized random forest\n",
      "0.7541666666666667\n",
      "Performance of the tfidf_vectorized random forest\n",
      "0.7770833333333333\n",
      "\n"
     ]
    }
   ],
   "source": [
    "skf = sklearn.model_selection.StratifiedKFold(n_splits=5)\n",
    "\n",
    "for train_index, test_index in skf.split(x_train_text, y_train): \n",
    "    count_randforest = RandomForestClassifier(random_state=RANDOM_STATE)\n",
    "    count_randforest.fit(x_train_text_count[train_index], y_train[train_index])\n",
    "    count_y_test_pred = count_randforest.predict(x_train_text_count[test_index])\n",
    "\n",
    "    tf_randforest = RandomForestClassifier(random_state=RANDOM_STATE)\n",
    "    tf_randforest.fit(x_train_text_tf[train_index], y_train[train_index])\n",
    "    tf_y_test_pred=tf_randforest.predict(x_train_text_tf[test_index])\n",
    "    \n",
    "    print(\"Performance of the count_vectorized random forest\")\n",
    "    print(sklearn.metrics.balanced_accuracy_score(\n",
    "        y_true=y_train[test_index], \n",
    "        y_pred=count_y_test_pred\n",
    "    ))\n",
    "    print(\"Performance of the tfidf_vectorized random forest\")    \n",
    "    print(sklearn.metrics.balanced_accuracy_score(\n",
    "        y_true=y_train[test_index], \n",
    "        y_pred=tf_y_test_pred\n",
    "    ))\n",
    "    print()"
   ]
  }
 ],
 "metadata": {
  "kernelspec": {
   "display_name": "Python 3",
   "language": "python",
   "name": "python3"
  },
  "language_info": {
   "codemirror_mode": {
    "name": "ipython",
    "version": 3
   },
   "file_extension": ".py",
   "mimetype": "text/x-python",
   "name": "python",
   "nbconvert_exporter": "python",
   "pygments_lexer": "ipython3",
   "version": "3.8.2"
  }
 },
 "nbformat": 4,
 "nbformat_minor": 4
}
