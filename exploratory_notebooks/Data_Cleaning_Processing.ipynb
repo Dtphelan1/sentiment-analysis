{
 "cells": [
  {
   "cell_type": "code",
   "execution_count": 1,
   "metadata": {},
   "outputs": [],
   "source": [
    "import numpy as np\n",
    "import pandas as pd\n",
    "import os\n",
    "import sklearn\n",
    "import time\n",
    "\n",
    "import sklearn\n",
    "from sklearn.feature_extraction.text import CountVectorizer\n",
    "from sklearn.feature_extraction.text import TfidfVectorizer\n",
    "from sklearn.ensemble import RandomForestClassifier\n",
    "from sklearn.pipeline import Pipeline\n",
    "from sklearn.model_selection import GridSearchCV\n",
    "\n",
    "# Custom functions \n",
    "def print_gridsearch_results(grid_searcher, unique_params):\n",
    "    # For a given gridsearcher and the relevant params used in grid_search, print the results of the runs\n",
    "    # Get the data as a pandas DF\n",
    "    gsearch_results_df = pd.DataFrame(grid_searcher.cv_results_).copy()\n",
    "    print(\"Dataframe has shape: %s\" % (str(gsearch_results_df.shape)))\n",
    "    n_trials_grid_search = gsearch_results_df.shape[0]\n",
    "    print(\"Number of trials used in grid search: \", n_trials_grid_search)\n",
    "\n",
    "    # Rearrange row order so it is easy to skim\n",
    "    gsearch_results_df.sort_values('rank_test_score', inplace=True)\n",
    "    # Transform param-text to match up with cv_results_ representation\n",
    "    param_keys = [f\"param_{key}\" for key in unique_params]\n",
    "    return(gsearch_results_df[param_keys + ['mean_train_score', 'mean_test_score', 'mean_fit_time', 'rank_test_score']])\n",
    "\n",
    "\n",
    "\n",
    "RANDOM_STATE = 123"
   ]
  },
  {
   "cell_type": "code",
   "execution_count": 2,
   "metadata": {},
   "outputs": [],
   "source": [
    "# Plotting utils\n",
    "import matplotlib\n",
    "import matplotlib.pyplot as plt\n",
    "\n",
    "%matplotlib inline\n",
    "plt.style.use('seaborn') # pretty matplotlib plots\n",
    "\n",
    "import seaborn as sns\n",
    "sns.set('notebook', font_scale=1.25, style='whitegrid')"
   ]
  },
  {
   "cell_type": "markdown",
   "metadata": {},
   "source": [
    "# Setup: Importing the Text\n"
   ]
  },
  {
   "cell_type": "code",
   "execution_count": 3,
   "metadata": {},
   "outputs": [
    {
     "name": "stdout",
     "output_type": "stream",
     "text": [
      "Shape of data\n",
      "---------------\n",
      "x_train_df shape: (2400, 2) \n",
      "y_train_df shape: (2400, 1) \n"
     ]
    }
   ],
   "source": [
    "data_dir = '../data_reviews'\n",
    "x_train_df = pd.read_csv(os.path.join(data_dir, 'x_train.csv'))\n",
    "y_train_df = pd.read_csv(os.path.join(data_dir, 'y_train.csv'))\n",
    "\n",
    "print(\"Shape of data\\n---------------\")\n",
    "print(f\"x_train_df shape: {x_train_df.shape} \")\n",
    "print(f\"y_train_df shape: {y_train_df.shape} \")\n",
    "\n",
    "# Get the text as a list of strings\n",
    "x_train_text = x_train_df['text'].values\n",
    "y_train = y_train_df['is_positive_sentiment'].values"
   ]
  },
  {
   "cell_type": "markdown",
   "metadata": {},
   "source": [
    "## Basic comparison of two vectorizers - one with counts and one using tfidf"
   ]
  },
  {
   "cell_type": "code",
   "execution_count": 4,
   "metadata": {},
   "outputs": [],
   "source": [
    "count_vectorizer = CountVectorizer(stop_words='english')\n",
    "count_vectorizer.fit_transform(x_train_text)\n",
    "x_train_text_count = count_vectorizer.transform(x_train_text).toarray()\n"
   ]
  },
  {
   "cell_type": "code",
   "execution_count": 5,
   "metadata": {
    "scrolled": true
   },
   "outputs": [
    {
     "data": {
      "text/plain": [
       "4255"
      ]
     },
     "execution_count": 5,
     "metadata": {},
     "output_type": "execute_result"
    }
   ],
   "source": [
    "len(count_vectorizer.vocabulary_)"
   ]
  },
  {
   "cell_type": "code",
   "execution_count": 6,
   "metadata": {},
   "outputs": [],
   "source": [
    "tf_vectorizer = TfidfVectorizer(stop_words='english')\n",
    "tf_vectorizer.fit_transform(x_train_text)\n",
    "x_train_text_tf = tf_vectorizer.transform(x_train_text).toarray()"
   ]
  },
  {
   "cell_type": "code",
   "execution_count": 7,
   "metadata": {},
   "outputs": [
    {
     "data": {
      "text/plain": [
       "4255"
      ]
     },
     "execution_count": 7,
     "metadata": {},
     "output_type": "execute_result"
    }
   ],
   "source": [
    "len(tf_vectorizer.vocabulary_)"
   ]
  },
  {
   "cell_type": "markdown",
   "metadata": {},
   "source": [
    "## Train two Random Forests to compare performance\n",
    "\n",
    "This manual approach to training models is no longer neceesary, as the pipeline enables a much speedier and more effective way of performing this comparison while also tuning hyperparameters.\n"
   ]
  },
  {
   "cell_type": "code",
   "execution_count": 22,
   "metadata": {},
   "outputs": [],
   "source": [
    "folds = 7"
   ]
  },
  {
   "cell_type": "markdown",
   "metadata": {},
   "source": [
    "### Using pipeline to try many tf-idf hyperparameters"
   ]
  },
  {
   "cell_type": "code",
   "execution_count": 29,
   "metadata": {},
   "outputs": [
    {
     "name": "stdout",
     "output_type": "stream",
     "text": [
      "Fitting 7 folds for each of 4 candidates, totalling 28 fits\n"
     ]
    },
    {
     "name": "stderr",
     "output_type": "stream",
     "text": [
      "[Parallel(n_jobs=3)]: Using backend LokyBackend with 3 concurrent workers.\n",
      "[Parallel(n_jobs=3)]: Done  28 out of  28 | elapsed:    4.4s finished\n",
      "/Users/dylanphelan/opt/miniconda3/envs/comp135_2020f_env/lib/python3.8/site-packages/sklearn/linear_model/_sag.py:329: ConvergenceWarning: The max_iter was reached which means the coef_ did not converge\n",
      "  warnings.warn(\"The max_iter was reached which means \"\n"
     ]
    },
    {
     "data": {
      "text/plain": [
       "GridSearchCV(cv=7,\n",
       "             estimator=Pipeline(steps=[('tfidf',\n",
       "                                        TfidfVectorizer(stop_words='english')),\n",
       "                                       ('clf',\n",
       "                                        LogisticRegression(C=10.0, max_iter=20,\n",
       "                                                           penalty='l1',\n",
       "                                                           random_state=123,\n",
       "                                                           solver='saga'))]),\n",
       "             n_jobs=3, param_grid={'tfidf__min_df': array([1, 2, 3, 4])},\n",
       "             return_train_score=True, scoring='balanced_accuracy', verbose=3)"
      ]
     },
     "execution_count": 29,
     "metadata": {},
     "output_type": "execute_result"
    }
   ],
   "source": [
    "tfidf_pipeline = Pipeline([\n",
    "    ('tfidf', TfidfVectorizer(stop_words='english')),\n",
    "#     ('clf', RandomForestClassifier(random_state=RANDOM_STATE)),\n",
    "    ('clf', sklearn.linear_model.LogisticRegression(penalty='l1', solver='saga', random_state=RANDOM_STATE, C=10.0, max_iter=20))\n",
    " ])\n",
    "tfidf_parameters = {\n",
    "    'tfidf__min_df': np.arange(1,5),\n",
    "#     'tfidf__max_df': (0.01, 0.05, 1.0),\n",
    "#     'tfidf__ngram_range': [(1, 1), (1, 2), (2,2)],\n",
    "}\n",
    "\n",
    "tfidf_grid_searcher = GridSearchCV(\n",
    "    tfidf_pipeline, \n",
    "    tfidf_parameters, \n",
    "    cv=folds, \n",
    "    n_jobs=3, \n",
    "    verbose=3,\n",
    "    scoring='balanced_accuracy',\n",
    "    return_train_score=True\n",
    ")\n",
    "tfidf_grid_searcher.fit(x_train_text, y_train)"
   ]
  },
  {
   "cell_type": "code",
   "execution_count": 30,
   "metadata": {
    "scrolled": false
   },
   "outputs": [
    {
     "name": "stdout",
     "output_type": "stream",
     "text": [
      "Dataframe has shape: (4, 25)\n",
      "Number of trials used in grid search:  4\n"
     ]
    },
    {
     "data": {
      "text/html": [
       "<div>\n",
       "<style scoped>\n",
       "    .dataframe tbody tr th:only-of-type {\n",
       "        vertical-align: middle;\n",
       "    }\n",
       "\n",
       "    .dataframe tbody tr th {\n",
       "        vertical-align: top;\n",
       "    }\n",
       "\n",
       "    .dataframe thead th {\n",
       "        text-align: right;\n",
       "    }\n",
       "</style>\n",
       "<table border=\"1\" class=\"dataframe\">\n",
       "  <thead>\n",
       "    <tr style=\"text-align: right;\">\n",
       "      <th></th>\n",
       "      <th>param_tfidf__min_df</th>\n",
       "      <th>mean_train_score</th>\n",
       "      <th>mean_test_score</th>\n",
       "      <th>mean_fit_time</th>\n",
       "      <th>rank_test_score</th>\n",
       "    </tr>\n",
       "  </thead>\n",
       "  <tbody>\n",
       "    <tr>\n",
       "      <th>0</th>\n",
       "      <td>1</td>\n",
       "      <td>0.986667</td>\n",
       "      <td>0.792854</td>\n",
       "      <td>0.620131</td>\n",
       "      <td>1</td>\n",
       "    </tr>\n",
       "    <tr>\n",
       "      <th>1</th>\n",
       "      <td>2</td>\n",
       "      <td>0.969792</td>\n",
       "      <td>0.788694</td>\n",
       "      <td>0.391484</td>\n",
       "      <td>2</td>\n",
       "    </tr>\n",
       "    <tr>\n",
       "      <th>2</th>\n",
       "      <td>3</td>\n",
       "      <td>0.935903</td>\n",
       "      <td>0.767466</td>\n",
       "      <td>0.275653</td>\n",
       "      <td>3</td>\n",
       "    </tr>\n",
       "    <tr>\n",
       "      <th>3</th>\n",
       "      <td>4</td>\n",
       "      <td>0.907430</td>\n",
       "      <td>0.756632</td>\n",
       "      <td>0.222772</td>\n",
       "      <td>4</td>\n",
       "    </tr>\n",
       "  </tbody>\n",
       "</table>\n",
       "</div>"
      ],
      "text/plain": [
       "  param_tfidf__min_df  mean_train_score  mean_test_score  mean_fit_time  \\\n",
       "0                   1          0.986667         0.792854       0.620131   \n",
       "1                   2          0.969792         0.788694       0.391484   \n",
       "2                   3          0.935903         0.767466       0.275653   \n",
       "3                   4          0.907430         0.756632       0.222772   \n",
       "\n",
       "   rank_test_score  \n",
       "0                1  \n",
       "1                2  \n",
       "2                3  \n",
       "3                4  "
      ]
     },
     "execution_count": 30,
     "metadata": {},
     "output_type": "execute_result"
    }
   ],
   "source": [
    "print_gridsearch_results(tfidf_grid_searcher, list(tfidf_parameters.keys()))"
   ]
  },
  {
   "cell_type": "code",
   "execution_count": 31,
   "metadata": {
    "scrolled": true
   },
   "outputs": [
    {
     "name": "stdout",
     "output_type": "stream",
     "text": [
      "Best parameters set:\n",
      "TfidfVectorizer(stop_words='english')\n",
      "{'tfidf__min_df': 1}\n"
     ]
    },
    {
     "data": {
      "text/plain": [
       "{'mean_fit_time': array([0.62013057, 0.3914844 , 0.27565326, 0.22277246]),\n",
       " 'std_fit_time': array([0.01168307, 0.01949973, 0.00799187, 0.00701035]),\n",
       " 'mean_score_time': array([0.01314514, 0.01274674, 0.01205601, 0.01254337]),\n",
       " 'std_score_time': array([0.00162045, 0.0022694 , 0.00164597, 0.00119278]),\n",
       " 'param_tfidf__min_df': masked_array(data=[1, 2, 3, 4],\n",
       "              mask=[False, False, False, False],\n",
       "        fill_value='?',\n",
       "             dtype=object),\n",
       " 'params': [{'tfidf__min_df': 1},\n",
       "  {'tfidf__min_df': 2},\n",
       "  {'tfidf__min_df': 3},\n",
       "  {'tfidf__min_df': 4}],\n",
       " 'split0_test_score': array([0.80173059, 0.78133075, 0.76667687, 0.74921801]),\n",
       " 'split1_test_score': array([0.79868761, 0.79287366, 0.78418673, 0.76665987]),\n",
       " 'split2_test_score': array([0.80734054, 0.8248334 , 0.80735754, 0.7869577 ]),\n",
       " 'split3_test_score': array([0.78136475, 0.76677887, 0.72019924, 0.72601319]),\n",
       " 'split4_test_score': array([0.76971984, 0.76101591, 0.74058208, 0.73187814]),\n",
       " 'split5_test_score': array([0.81043452, 0.81917245, 0.7871787 , 0.79300966]),\n",
       " 'split6_test_score': array([0.78070175, 0.7748538 , 0.76608187, 0.74269006]),\n",
       " 'mean_test_score': array([0.79285423, 0.78869412, 0.76746615, 0.75663238]),\n",
       " 'std_test_score': array([0.01437572, 0.02312877, 0.02730499, 0.02432855]),\n",
       " 'rank_test_score': array([1, 2, 3, 4], dtype=int32),\n",
       " 'split0_train_score': array([0.98590203, 0.97326415, 0.93777817, 0.90618276]),\n",
       " 'split1_train_score': array([0.98736165, 0.96937405, 0.94021149, 0.91298596]),\n",
       " 'split2_train_score': array([0.98881985, 0.96985948, 0.93097167, 0.91007239]),\n",
       " 'split3_train_score': array([0.98493021, 0.96694261, 0.92999134, 0.90373668]),\n",
       " 'split4_train_score': array([0.98930481, 0.97228714, 0.93776777, 0.91151074]),\n",
       " 'split5_train_score': array([0.98687432, 0.96985665, 0.93679548, 0.90324557]),\n",
       " 'split6_train_score': array([0.98347911, 0.96695821, 0.93780369, 0.904276  ]),\n",
       " 'mean_train_score': array([0.98666743, 0.96979176, 0.9359028 , 0.90743001]),\n",
       " 'std_train_score': array([0.00192289, 0.00222371, 0.00357035, 0.00372553])}"
      ]
     },
     "execution_count": 31,
     "metadata": {},
     "output_type": "execute_result"
    }
   ],
   "source": [
    "print(\"Best parameters set:\")\n",
    "print(tfidf_grid_searcher.best_estimator_[0])\n",
    "print(tfidf_grid_searcher.best_params_)\n",
    "cv_results = tfidf_grid_searcher.cv_results_\n",
    "cv_results"
   ]
  },
  {
   "cell_type": "markdown",
   "metadata": {},
   "source": [
    "### Characterize the vocabulary for this optimal vectorizer"
   ]
  },
  {
   "cell_type": "code",
   "execution_count": 32,
   "metadata": {},
   "outputs": [
    {
     "data": {
      "text/plain": [
       "4255"
      ]
     },
     "execution_count": 32,
     "metadata": {},
     "output_type": "execute_result"
    }
   ],
   "source": [
    "best_tfidf_vectorizer = tfidf_grid_searcher.best_estimator_[0]\n",
    "best_tfidf_vectorizer.fit_transform(x_train_text)\n",
    "x_train_text_tf_best = best_tfidf_vectorizer.transform(x_train_text).toarray()\n",
    "len(best_tfidf_vectorizer.vocabulary_)"
   ]
  },
  {
   "cell_type": "code",
   "execution_count": 33,
   "metadata": {},
   "outputs": [
    {
     "data": {
      "text/plain": [
       "{'analyzer': 'word',\n",
       " 'binary': False,\n",
       " 'decode_error': 'strict',\n",
       " 'dtype': numpy.float64,\n",
       " 'encoding': 'utf-8',\n",
       " 'input': 'content',\n",
       " 'lowercase': True,\n",
       " 'max_df': 1.0,\n",
       " 'max_features': None,\n",
       " 'min_df': 1,\n",
       " 'ngram_range': (1, 1),\n",
       " 'norm': 'l2',\n",
       " 'preprocessor': None,\n",
       " 'smooth_idf': True,\n",
       " 'stop_words': 'english',\n",
       " 'strip_accents': None,\n",
       " 'sublinear_tf': False,\n",
       " 'token_pattern': '(?u)\\\\b\\\\w\\\\w+\\\\b',\n",
       " 'tokenizer': None,\n",
       " 'use_idf': True,\n",
       " 'vocabulary': None}"
      ]
     },
     "execution_count": 33,
     "metadata": {},
     "output_type": "execute_result"
    }
   ],
   "source": [
    "best_tfidf_vectorizer.get_params()"
   ]
  },
  {
   "cell_type": "code",
   "execution_count": 42,
   "metadata": {},
   "outputs": [],
   "source": [
    "\n",
    "def plot_cv_folds(cv_results, param_name, param_label, folds, log10=False, log2=False):\n",
    "    _, ax = plt.subplots(1, 1)\n",
    "\n",
    "    # Get averages\n",
    "    mean_test_score = cv_results['mean_test_score']\n",
    "    mean_train_score = cv_results['mean_train_score']\n",
    "\n",
    "    # Get x_values\n",
    "    param_values = cv_results[f'param_{param_name}']\n",
    "    x_values = param_values.data.astype(np.float64)\n",
    "    if (log10):\n",
    "        x_values = np.log10(x_values)\n",
    "    elif (log2):\n",
    "        x_values = np.log2(x_values)\n",
    "\n",
    "    ax.plot(x_values, mean_test_score, '-bs', label=f'average test')\n",
    "    ax.plot(x_values, mean_train_score, '-rs', label=f'average train')\n",
    "\n",
    "    # Get overall mean_train_score\n",
    "    for fold in range(folds):\n",
    "        fold_scores = cv_results[f'split{fold}_test_score']\n",
    "        ax.plot(x_values, fold_scores, 's', label=f'{fold}-validation set')\n",
    "\n",
    "    ax.set_title(f\"{param_label} Grid Search Scores\", fontsize=20, fontweight='bold')\n",
    "    ax.set_xlabel(param_label, fontsize=16)\n",
    "    ax.set_ylabel('Balanced Accuracy', fontsize=16)\n",
    "    ax.legend(loc=\"best\", fontsize=15, bbox_to_anchor=(1, 1))"
   ]
  },
  {
   "cell_type": "code",
   "execution_count": 43,
   "metadata": {},
   "outputs": [
    {
     "data": {
      "image/png": "[encoded data removed]",
      "text/plain": [
       "<Figure size 576x396 with 1 Axes>"
      ]
     },
     "metadata": {},
     "output_type": "display_data"
    }
   ],
   "source": [
    "# Plotting the CV results for a gridsearch over one feature\n",
    "\n",
    "cv_results = tfidf_grid_searcher.cv_results_\n",
    "# Two plots: One comparing train and test performance; one comparing all of the fold scores against one another \n",
    "# Plot one\n",
    "param = list(tfidf_parameters.keys())[0]\n",
    "param_label = \"Hidden Layer Size, Log 2\"\n",
    "\n",
    "plot_cv_folds(cv_results, param, param_label, folds, log2=True)"
   ]
  },
  {
   "cell_type": "markdown",
   "metadata": {},
   "source": [
    "# Using pipeline to try many CountVectorizer hyperparameters"
   ]
  },
  {
   "cell_type": "code",
   "execution_count": 19,
   "metadata": {},
   "outputs": [
    {
     "name": "stdout",
     "output_type": "stream",
     "text": [
      "Fitting 7 folds for each of 36 candidates, totalling 252 fits\n"
     ]
    },
    {
     "name": "stderr",
     "output_type": "stream",
     "text": [
      "[Parallel(n_jobs=3)]: Using backend LokyBackend with 3 concurrent workers.\n",
      "[Parallel(n_jobs=3)]: Done  26 tasks      | elapsed:   14.1s\n",
      "[Parallel(n_jobs=3)]: Done 122 tasks      | elapsed:   34.6s\n",
      "[Parallel(n_jobs=3)]: Done 252 out of 252 | elapsed:   58.1s finished\n"
     ]
    },
    {
     "name": "stdout",
     "output_type": "stream",
     "text": [
      "Best parameters set:\n",
      "[('count', CountVectorizer(max_df=0.1, min_df=2, ngram_range=(1, 2), stop_words='english')), ('clf', LogisticRegression(C=10.0, max_iter=20, penalty='l1', random_state=123,\n",
      "                   solver='saga'))]\n"
     ]
    },
    {
     "name": "stderr",
     "output_type": "stream",
     "text": [
      "/Users/dylanphelan/opt/miniconda3/envs/comp135_2020f_env/lib/python3.8/site-packages/sklearn/linear_model/_sag.py:329: ConvergenceWarning: The max_iter was reached which means the coef_ did not converge\n",
      "  warnings.warn(\"The max_iter was reached which means \"\n"
     ]
    }
   ],
   "source": [
    "count_pipeline = Pipeline([\n",
    "    ('count', CountVectorizer(stop_words='english')),\n",
    "#     ('clf', RandomForestClassifier(random_state=RANDOM_STATE)),\n",
    "    ('clf', sklearn.linear_model.LogisticRegression(penalty='l1', solver='saga', random_state=RANDOM_STATE, C=10.0, max_iter=20))\n",
    "\n",
    " ])\n",
    "count_parameters = {\n",
    "    'count__min_df': np.arange(1, 5),\n",
    "    'count__max_df': (0.05, 0.1, 0.5),\n",
    "    'count__ngram_range': [(1, 1), (1, 2), (2,2)],\n",
    "}\n",
    "\n",
    "count_grid_searcher = GridSearchCV(\n",
    "    count_pipeline, \n",
    "    count_parameters, \n",
    "    cv=folds, \n",
    "    n_jobs=3, \n",
    "    verbose=3,\n",
    "    scoring='balanced_accuracy',\n",
    "    return_train_score=True\n",
    ")\n",
    "count_grid_searcher.fit(x_train_text, y_train)\n",
    "\n",
    "print(\"Best parameters set:\")\n",
    "print(count_grid_searcher.best_estimator_.steps)\n"
   ]
  },
  {
   "cell_type": "code",
   "execution_count": 17,
   "metadata": {},
   "outputs": [
    {
     "name": "stdout",
     "output_type": "stream",
     "text": [
      "Dataframe has shape: (36, 27)\n",
      "Number of trials used in grid search:  36\n"
     ]
    },
    {
     "data": {
      "text/html": [
       "<div>\n",
       "<style scoped>\n",
       "    .dataframe tbody tr th:only-of-type {\n",
       "        vertical-align: middle;\n",
       "    }\n",
       "\n",
       "    .dataframe tbody tr th {\n",
       "        vertical-align: top;\n",
       "    }\n",
       "\n",
       "    .dataframe thead th {\n",
       "        text-align: right;\n",
       "    }\n",
       "</style>\n",
       "<table border=\"1\" class=\"dataframe\">\n",
       "  <thead>\n",
       "    <tr style=\"text-align: right;\">\n",
       "      <th></th>\n",
       "      <th>param_count__min_df</th>\n",
       "      <th>param_count__max_df</th>\n",
       "      <th>param_count__ngram_range</th>\n",
       "      <th>mean_train_score</th>\n",
       "      <th>mean_test_score</th>\n",
       "      <th>mean_fit_time</th>\n",
       "      <th>rank_test_score</th>\n",
       "    </tr>\n",
       "  </thead>\n",
       "  <tbody>\n",
       "    <tr>\n",
       "      <th>28</th>\n",
       "      <td>2</td>\n",
       "      <td>0.5</td>\n",
       "      <td>(1, 2)</td>\n",
       "      <td>0.992361</td>\n",
       "      <td>0.787487</td>\n",
       "      <td>0.901843</td>\n",
       "      <td>1</td>\n",
       "    </tr>\n",
       "    <tr>\n",
       "      <th>16</th>\n",
       "      <td>2</td>\n",
       "      <td>0.1</td>\n",
       "      <td>(1, 2)</td>\n",
       "      <td>0.992361</td>\n",
       "      <td>0.787487</td>\n",
       "      <td>0.880137</td>\n",
       "      <td>1</td>\n",
       "    </tr>\n",
       "    <tr>\n",
       "      <th>27</th>\n",
       "      <td>2</td>\n",
       "      <td>0.5</td>\n",
       "      <td>(1, 1)</td>\n",
       "      <td>0.992361</td>\n",
       "      <td>0.784983</td>\n",
       "      <td>0.859592</td>\n",
       "      <td>3</td>\n",
       "    </tr>\n",
       "    <tr>\n",
       "      <th>15</th>\n",
       "      <td>2</td>\n",
       "      <td>0.1</td>\n",
       "      <td>(1, 1)</td>\n",
       "      <td>0.992361</td>\n",
       "      <td>0.784983</td>\n",
       "      <td>0.831248</td>\n",
       "      <td>3</td>\n",
       "    </tr>\n",
       "    <tr>\n",
       "      <th>24</th>\n",
       "      <td>1</td>\n",
       "      <td>0.5</td>\n",
       "      <td>(1, 1)</td>\n",
       "      <td>0.997014</td>\n",
       "      <td>0.776243</td>\n",
       "      <td>1.076613</td>\n",
       "      <td>5</td>\n",
       "    </tr>\n",
       "    <tr>\n",
       "      <th>12</th>\n",
       "      <td>1</td>\n",
       "      <td>0.1</td>\n",
       "      <td>(1, 1)</td>\n",
       "      <td>0.997014</td>\n",
       "      <td>0.776243</td>\n",
       "      <td>1.095115</td>\n",
       "      <td>5</td>\n",
       "    </tr>\n",
       "    <tr>\n",
       "      <th>25</th>\n",
       "      <td>1</td>\n",
       "      <td>0.5</td>\n",
       "      <td>(1, 2)</td>\n",
       "      <td>0.997153</td>\n",
       "      <td>0.772493</td>\n",
       "      <td>1.827047</td>\n",
       "      <td>7</td>\n",
       "    </tr>\n",
       "    <tr>\n",
       "      <th>13</th>\n",
       "      <td>1</td>\n",
       "      <td>0.1</td>\n",
       "      <td>(1, 2)</td>\n",
       "      <td>0.997153</td>\n",
       "      <td>0.772493</td>\n",
       "      <td>1.816029</td>\n",
       "      <td>7</td>\n",
       "    </tr>\n",
       "    <tr>\n",
       "      <th>31</th>\n",
       "      <td>3</td>\n",
       "      <td>0.5</td>\n",
       "      <td>(1, 2)</td>\n",
       "      <td>0.980972</td>\n",
       "      <td>0.769149</td>\n",
       "      <td>0.786975</td>\n",
       "      <td>9</td>\n",
       "    </tr>\n",
       "    <tr>\n",
       "      <th>19</th>\n",
       "      <td>3</td>\n",
       "      <td>0.1</td>\n",
       "      <td>(1, 2)</td>\n",
       "      <td>0.980972</td>\n",
       "      <td>0.769149</td>\n",
       "      <td>0.749988</td>\n",
       "      <td>9</td>\n",
       "    </tr>\n",
       "    <tr>\n",
       "      <th>30</th>\n",
       "      <td>3</td>\n",
       "      <td>0.5</td>\n",
       "      <td>(1, 1)</td>\n",
       "      <td>0.980903</td>\n",
       "      <td>0.767063</td>\n",
       "      <td>0.769771</td>\n",
       "      <td>11</td>\n",
       "    </tr>\n",
       "    <tr>\n",
       "      <th>18</th>\n",
       "      <td>3</td>\n",
       "      <td>0.1</td>\n",
       "      <td>(1, 1)</td>\n",
       "      <td>0.980903</td>\n",
       "      <td>0.767063</td>\n",
       "      <td>0.711929</td>\n",
       "      <td>11</td>\n",
       "    </tr>\n",
       "    <tr>\n",
       "      <th>22</th>\n",
       "      <td>4</td>\n",
       "      <td>0.1</td>\n",
       "      <td>(1, 2)</td>\n",
       "      <td>0.967222</td>\n",
       "      <td>0.762881</td>\n",
       "      <td>0.705068</td>\n",
       "      <td>13</td>\n",
       "    </tr>\n",
       "    <tr>\n",
       "      <th>34</th>\n",
       "      <td>4</td>\n",
       "      <td>0.5</td>\n",
       "      <td>(1, 2)</td>\n",
       "      <td>0.967222</td>\n",
       "      <td>0.762881</td>\n",
       "      <td>0.740692</td>\n",
       "      <td>13</td>\n",
       "    </tr>\n",
       "    <tr>\n",
       "      <th>33</th>\n",
       "      <td>4</td>\n",
       "      <td>0.5</td>\n",
       "      <td>(1, 1)</td>\n",
       "      <td>0.967222</td>\n",
       "      <td>0.762461</td>\n",
       "      <td>0.684234</td>\n",
       "      <td>15</td>\n",
       "    </tr>\n",
       "    <tr>\n",
       "      <th>21</th>\n",
       "      <td>4</td>\n",
       "      <td>0.1</td>\n",
       "      <td>(1, 1)</td>\n",
       "      <td>0.967222</td>\n",
       "      <td>0.762461</td>\n",
       "      <td>0.663600</td>\n",
       "      <td>15</td>\n",
       "    </tr>\n",
       "    <tr>\n",
       "      <th>4</th>\n",
       "      <td>2</td>\n",
       "      <td>0.05</td>\n",
       "      <td>(1, 2)</td>\n",
       "      <td>0.989237</td>\n",
       "      <td>0.743266</td>\n",
       "      <td>0.846294</td>\n",
       "      <td>17</td>\n",
       "    </tr>\n",
       "    <tr>\n",
       "      <th>1</th>\n",
       "      <td>1</td>\n",
       "      <td>0.05</td>\n",
       "      <td>(1, 2)</td>\n",
       "      <td>0.997083</td>\n",
       "      <td>0.741211</td>\n",
       "      <td>1.716594</td>\n",
       "      <td>18</td>\n",
       "    </tr>\n",
       "    <tr>\n",
       "      <th>7</th>\n",
       "      <td>3</td>\n",
       "      <td>0.05</td>\n",
       "      <td>(1, 2)</td>\n",
       "      <td>0.976044</td>\n",
       "      <td>0.733311</td>\n",
       "      <td>0.740107</td>\n",
       "      <td>19</td>\n",
       "    </tr>\n",
       "    <tr>\n",
       "      <th>3</th>\n",
       "      <td>2</td>\n",
       "      <td>0.05</td>\n",
       "      <td>(1, 1)</td>\n",
       "      <td>0.986947</td>\n",
       "      <td>0.732803</td>\n",
       "      <td>0.745212</td>\n",
       "      <td>20</td>\n",
       "    </tr>\n",
       "    <tr>\n",
       "      <th>0</th>\n",
       "      <td>1</td>\n",
       "      <td>0.05</td>\n",
       "      <td>(1, 1)</td>\n",
       "      <td>0.995279</td>\n",
       "      <td>0.731497</td>\n",
       "      <td>1.066849</td>\n",
       "      <td>21</td>\n",
       "    </tr>\n",
       "    <tr>\n",
       "      <th>6</th>\n",
       "      <td>3</td>\n",
       "      <td>0.05</td>\n",
       "      <td>(1, 1)</td>\n",
       "      <td>0.973616</td>\n",
       "      <td>0.720755</td>\n",
       "      <td>0.751390</td>\n",
       "      <td>22</td>\n",
       "    </tr>\n",
       "    <tr>\n",
       "      <th>10</th>\n",
       "      <td>4</td>\n",
       "      <td>0.05</td>\n",
       "      <td>(1, 2)</td>\n",
       "      <td>0.958406</td>\n",
       "      <td>0.717416</td>\n",
       "      <td>0.693673</td>\n",
       "      <td>23</td>\n",
       "    </tr>\n",
       "    <tr>\n",
       "      <th>9</th>\n",
       "      <td>4</td>\n",
       "      <td>0.05</td>\n",
       "      <td>(1, 1)</td>\n",
       "      <td>0.957091</td>\n",
       "      <td>0.716991</td>\n",
       "      <td>0.642375</td>\n",
       "      <td>24</td>\n",
       "    </tr>\n",
       "    <tr>\n",
       "      <th>14</th>\n",
       "      <td>1</td>\n",
       "      <td>0.1</td>\n",
       "      <td>(2, 2)</td>\n",
       "      <td>0.979236</td>\n",
       "      <td>0.584215</td>\n",
       "      <td>1.660005</td>\n",
       "      <td>25</td>\n",
       "    </tr>\n",
       "    <tr>\n",
       "      <th>2</th>\n",
       "      <td>1</td>\n",
       "      <td>0.05</td>\n",
       "      <td>(2, 2)</td>\n",
       "      <td>0.979236</td>\n",
       "      <td>0.584215</td>\n",
       "      <td>1.615946</td>\n",
       "      <td>25</td>\n",
       "    </tr>\n",
       "    <tr>\n",
       "      <th>26</th>\n",
       "      <td>1</td>\n",
       "      <td>0.5</td>\n",
       "      <td>(2, 2)</td>\n",
       "      <td>0.979236</td>\n",
       "      <td>0.584215</td>\n",
       "      <td>1.741998</td>\n",
       "      <td>25</td>\n",
       "    </tr>\n",
       "    <tr>\n",
       "      <th>29</th>\n",
       "      <td>2</td>\n",
       "      <td>0.5</td>\n",
       "      <td>(2, 2)</td>\n",
       "      <td>0.678749</td>\n",
       "      <td>0.560884</td>\n",
       "      <td>0.479367</td>\n",
       "      <td>28</td>\n",
       "    </tr>\n",
       "    <tr>\n",
       "      <th>17</th>\n",
       "      <td>2</td>\n",
       "      <td>0.1</td>\n",
       "      <td>(2, 2)</td>\n",
       "      <td>0.678749</td>\n",
       "      <td>0.560884</td>\n",
       "      <td>0.420660</td>\n",
       "      <td>28</td>\n",
       "    </tr>\n",
       "    <tr>\n",
       "      <th>5</th>\n",
       "      <td>2</td>\n",
       "      <td>0.05</td>\n",
       "      <td>(2, 2)</td>\n",
       "      <td>0.678749</td>\n",
       "      <td>0.560884</td>\n",
       "      <td>0.431162</td>\n",
       "      <td>28</td>\n",
       "    </tr>\n",
       "    <tr>\n",
       "      <th>20</th>\n",
       "      <td>3</td>\n",
       "      <td>0.1</td>\n",
       "      <td>(2, 2)</td>\n",
       "      <td>0.589725</td>\n",
       "      <td>0.537128</td>\n",
       "      <td>0.304640</td>\n",
       "      <td>31</td>\n",
       "    </tr>\n",
       "    <tr>\n",
       "      <th>8</th>\n",
       "      <td>3</td>\n",
       "      <td>0.05</td>\n",
       "      <td>(2, 2)</td>\n",
       "      <td>0.589725</td>\n",
       "      <td>0.537128</td>\n",
       "      <td>0.298453</td>\n",
       "      <td>31</td>\n",
       "    </tr>\n",
       "    <tr>\n",
       "      <th>32</th>\n",
       "      <td>3</td>\n",
       "      <td>0.5</td>\n",
       "      <td>(2, 2)</td>\n",
       "      <td>0.589725</td>\n",
       "      <td>0.537128</td>\n",
       "      <td>0.280444</td>\n",
       "      <td>31</td>\n",
       "    </tr>\n",
       "    <tr>\n",
       "      <th>11</th>\n",
       "      <td>4</td>\n",
       "      <td>0.05</td>\n",
       "      <td>(2, 2)</td>\n",
       "      <td>0.553336</td>\n",
       "      <td>0.522530</td>\n",
       "      <td>0.262008</td>\n",
       "      <td>34</td>\n",
       "    </tr>\n",
       "    <tr>\n",
       "      <th>23</th>\n",
       "      <td>4</td>\n",
       "      <td>0.1</td>\n",
       "      <td>(2, 2)</td>\n",
       "      <td>0.553336</td>\n",
       "      <td>0.522530</td>\n",
       "      <td>0.235311</td>\n",
       "      <td>34</td>\n",
       "    </tr>\n",
       "    <tr>\n",
       "      <th>35</th>\n",
       "      <td>4</td>\n",
       "      <td>0.5</td>\n",
       "      <td>(2, 2)</td>\n",
       "      <td>0.553336</td>\n",
       "      <td>0.522530</td>\n",
       "      <td>0.285365</td>\n",
       "      <td>34</td>\n",
       "    </tr>\n",
       "  </tbody>\n",
       "</table>\n",
       "</div>"
      ],
      "text/plain": [
       "   param_count__min_df param_count__max_df param_count__ngram_range  \\\n",
       "28                   2                 0.5                   (1, 2)   \n",
       "16                   2                 0.1                   (1, 2)   \n",
       "27                   2                 0.5                   (1, 1)   \n",
       "15                   2                 0.1                   (1, 1)   \n",
       "24                   1                 0.5                   (1, 1)   \n",
       "12                   1                 0.1                   (1, 1)   \n",
       "25                   1                 0.5                   (1, 2)   \n",
       "13                   1                 0.1                   (1, 2)   \n",
       "31                   3                 0.5                   (1, 2)   \n",
       "19                   3                 0.1                   (1, 2)   \n",
       "30                   3                 0.5                   (1, 1)   \n",
       "18                   3                 0.1                   (1, 1)   \n",
       "22                   4                 0.1                   (1, 2)   \n",
       "34                   4                 0.5                   (1, 2)   \n",
       "33                   4                 0.5                   (1, 1)   \n",
       "21                   4                 0.1                   (1, 1)   \n",
       "4                    2                0.05                   (1, 2)   \n",
       "1                    1                0.05                   (1, 2)   \n",
       "7                    3                0.05                   (1, 2)   \n",
       "3                    2                0.05                   (1, 1)   \n",
       "0                    1                0.05                   (1, 1)   \n",
       "6                    3                0.05                   (1, 1)   \n",
       "10                   4                0.05                   (1, 2)   \n",
       "9                    4                0.05                   (1, 1)   \n",
       "14                   1                 0.1                   (2, 2)   \n",
       "2                    1                0.05                   (2, 2)   \n",
       "26                   1                 0.5                   (2, 2)   \n",
       "29                   2                 0.5                   (2, 2)   \n",
       "17                   2                 0.1                   (2, 2)   \n",
       "5                    2                0.05                   (2, 2)   \n",
       "20                   3                 0.1                   (2, 2)   \n",
       "8                    3                0.05                   (2, 2)   \n",
       "32                   3                 0.5                   (2, 2)   \n",
       "11                   4                0.05                   (2, 2)   \n",
       "23                   4                 0.1                   (2, 2)   \n",
       "35                   4                 0.5                   (2, 2)   \n",
       "\n",
       "    mean_train_score  mean_test_score  mean_fit_time  rank_test_score  \n",
       "28          0.992361         0.787487       0.901843                1  \n",
       "16          0.992361         0.787487       0.880137                1  \n",
       "27          0.992361         0.784983       0.859592                3  \n",
       "15          0.992361         0.784983       0.831248                3  \n",
       "24          0.997014         0.776243       1.076613                5  \n",
       "12          0.997014         0.776243       1.095115                5  \n",
       "25          0.997153         0.772493       1.827047                7  \n",
       "13          0.997153         0.772493       1.816029                7  \n",
       "31          0.980972         0.769149       0.786975                9  \n",
       "19          0.980972         0.769149       0.749988                9  \n",
       "30          0.980903         0.767063       0.769771               11  \n",
       "18          0.980903         0.767063       0.711929               11  \n",
       "22          0.967222         0.762881       0.705068               13  \n",
       "34          0.967222         0.762881       0.740692               13  \n",
       "33          0.967222         0.762461       0.684234               15  \n",
       "21          0.967222         0.762461       0.663600               15  \n",
       "4           0.989237         0.743266       0.846294               17  \n",
       "1           0.997083         0.741211       1.716594               18  \n",
       "7           0.976044         0.733311       0.740107               19  \n",
       "3           0.986947         0.732803       0.745212               20  \n",
       "0           0.995279         0.731497       1.066849               21  \n",
       "6           0.973616         0.720755       0.751390               22  \n",
       "10          0.958406         0.717416       0.693673               23  \n",
       "9           0.957091         0.716991       0.642375               24  \n",
       "14          0.979236         0.584215       1.660005               25  \n",
       "2           0.979236         0.584215       1.615946               25  \n",
       "26          0.979236         0.584215       1.741998               25  \n",
       "29          0.678749         0.560884       0.479367               28  \n",
       "17          0.678749         0.560884       0.420660               28  \n",
       "5           0.678749         0.560884       0.431162               28  \n",
       "20          0.589725         0.537128       0.304640               31  \n",
       "8           0.589725         0.537128       0.298453               31  \n",
       "32          0.589725         0.537128       0.280444               31  \n",
       "11          0.553336         0.522530       0.262008               34  \n",
       "23          0.553336         0.522530       0.235311               34  \n",
       "35          0.553336         0.522530       0.285365               34  "
      ]
     },
     "execution_count": 17,
     "metadata": {},
     "output_type": "execute_result"
    }
   ],
   "source": [
    "print_gridsearch_results(count_grid_searcher, list(count_parameters.keys()))"
   ]
  },
  {
   "cell_type": "code",
   "execution_count": 18,
   "metadata": {},
   "outputs": [
    {
     "data": {
      "text/plain": [
       "2131"
      ]
     },
     "execution_count": 18,
     "metadata": {},
     "output_type": "execute_result"
    }
   ],
   "source": [
    "best_count_vectorizer = count_grid_searcher.best_estimator_[0]\n",
    "best_count_vectorizer.fit_transform(x_train_text)\n",
    "x_train_text_count_best = best_count_vectorizer.transform(x_train_text).toarray()\n",
    "len(best_count_vectorizer.vocabulary_)"
   ]
  },
  {
   "cell_type": "code",
   "execution_count": 51,
   "metadata": {},
   "outputs": [
    {
     "data": {
      "text/plain": [
       "2131"
      ]
     },
     "execution_count": 51,
     "metadata": {},
     "output_type": "execute_result"
    }
   ],
   "source": [
    "len(x_train_text_count_best[0])"
   ]
  },
  {
   "cell_type": "markdown",
   "metadata": {},
   "source": [
    "### Archive "
   ]
  },
  {
   "cell_type": "code",
   "execution_count": 58,
   "metadata": {},
   "outputs": [],
   "source": [
    "# skf = sklearn.model_selection.StratifiedKFold(n_splits=5)\n",
    "# count_tf_scores = [[],[]]\n",
    "# count_tf_train_time = [[],[]]\n",
    "\n",
    "# for train_index, test_index in skf.split(x_train_text, y_train): \n",
    "#     ## Count\n",
    "#     #\n",
    "#     count_randforest = RandomForestClassifier(random_state=RANDOM_STATE)\n",
    "#     # Time the training process\n",
    "#     start_time_sec = time.time()\n",
    "#     count_randforest.fit(x_train_text_count[train_index], y_train[train_index])\n",
    "#     elapsed_time_sec = time.time() - start_time_sec\n",
    "#     # Get accuracy scores for this split\n",
    "#     count_y_test_pred = count_randforest.predict(x_train_text_count[test_index])\n",
    "#     count_balanced_acc = sklearn.metrics.balanced_accuracy_score(\n",
    "#         y_true=y_train[test_index], \n",
    "#         y_pred=count_y_test_pred\n",
    "#     )\n",
    "#     print(\"Performance of the count_vectorized random forest\")\n",
    "#     print(count_balanced_acc)\n",
    "#     count_tf_scores[0].append(count_balanced_acc)\n",
    "#     count_tf_train_time[0].append(elapsed_time_sec)\n",
    "    \n",
    "#     # TFIDF\n",
    "#     # \n",
    "#     tf_randforest = RandomForestClassifier(random_state=RANDOM_STATE)\n",
    "#     # Time the training process\n",
    "#     start_time_sec = time.time()    \n",
    "#     tf_randforest.fit(x_train_text_tf[train_index], y_train[train_index])\n",
    "#     elapsed_time_sec = time.time() - start_time_sec\n",
    "#     # Get accuracy scores for this split\n",
    "#     tf_y_test_pred=tf_randforest.predict(x_train_text_tf[test_index])\n",
    "    \n",
    "#     tf_balanced_acc = sklearn.metrics.balanced_accuracy_score(\n",
    "#         y_true=y_train[test_index], \n",
    "#         y_pred=tf_y_test_pred\n",
    "#     )\n",
    "#     print(\"Performance of the tfidf_vectorized random forest\")    \n",
    "#     print(tf_balanced_acc)\n",
    "#     count_tf_scores[1].append(tf_balanced_acc)\n",
    "#     count_tf_train_time[1].append(elapsed_time_sec)\n",
    "    \n",
    "# print(\"Best overall\")\n",
    "# print(f\"type:  | score | time \")\n",
    "# print(f\"count: | %5.3f | %4.3f\" % (np.mean(count_tf_scores[0]), np.mean(count_tf_train_time[0])))\n",
    "# print(f\"tfidf: | %5.3f | %4.3f\" % (np.mean(count_tf_scores[1]), np.mean(count_tf_train_time[1])))\n"
   ]
  },
  {
   "cell_type": "code",
   "execution_count": null,
   "metadata": {},
   "outputs": [],
   "source": []
  }
 ],
 "metadata": {
  "kernelspec": {
   "display_name": "Python 3",
   "language": "python",
   "name": "python3"
  },
  "language_info": {
   "codemirror_mode": {
    "name": "ipython",
    "version": 3
   },
   "file_extension": ".py",
   "mimetype": "text/x-python",
   "name": "python",
   "nbconvert_exporter": "python",
   "pygments_lexer": "ipython3",
   "version": "3.8.2"
  }
 },
 "nbformat": 4,
 "nbformat_minor": 4
}
