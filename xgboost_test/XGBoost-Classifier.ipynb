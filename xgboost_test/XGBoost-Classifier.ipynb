{
 "cells": [
  {
   "cell_type": "markdown",
   "metadata": {},
   "source": [
    "# Bag-of-Words Classifier Pipeline"
   ]
  },
  {
   "cell_type": "code",
   "execution_count": 18,
   "metadata": {},
   "outputs": [],
   "source": [
    "import os\n",
    "from collections import OrderedDict\n",
    "\n",
    "import numpy as np\n",
    "import pandas as pd\n",
    "import sklearn\n",
    "from sklearn.feature_extraction.text import CountVectorizer, TfidfVectorizer\n",
    "from sklearn.model_selection import train_test_split\n",
    "from sklearn.model_selection import GridSearchCV\n",
    "from sklearn.pipeline import Pipeline\n",
    "\n",
    "import xgboost as xgb\n",
    "\n",
    "from utils import print_gridsearch_results, test_on_estimator, plot_cv_single_param\n",
    "\n",
    "RANDOM_STATE = 123"
   ]
  },
  {
   "cell_type": "markdown",
   "metadata": {},
   "source": [
    "## Data prep"
   ]
  },
  {
   "cell_type": "code",
   "execution_count": 25,
   "metadata": {},
   "outputs": [
    {
     "name": "stdout",
     "output_type": "stream",
     "text": [
      "Shape of data\n",
      "---------------\n",
      "x_train_df shape: (2400, 2) \n",
      "y_train_df shape: (2400, 1) \n"
     ]
    }
   ],
   "source": [
    "data_dir = '../data_reviews'\n",
    "x_train_df = pd.read_csv(os.path.join(data_dir, 'x_train.csv'))\n",
    "y_train_df = pd.read_csv(os.path.join(data_dir, 'y_train.csv'))\n",
    "\n",
    "print(\"Shape of data\\n---------------\")\n",
    "print(f\"x_train_df shape: {x_train_df.shape} \")\n",
    "print(f\"y_train_df shape: {y_train_df.shape} \")\n",
    "\n",
    "# Get the text as a list of strings\n",
    "x_train_text = x_train_df['text'].values\n",
    "y_train = y_train_df['is_positive_sentiment'].values"
   ]
  },
  {
   "cell_type": "markdown",
   "metadata": {},
   "source": [
    "## Dataset Exploration"
   ]
  },
  {
   "cell_type": "code",
   "execution_count": 26,
   "metadata": {},
   "outputs": [
    {
     "name": "stdout",
     "output_type": "stream",
     "text": [
      "Total number of training samples = 2400\n",
      "Fraction positive training samples = 0.5\n"
     ]
    }
   ],
   "source": [
    "num_train_samples = x_train_text.shape[0]\n",
    "num_positive_train_samples = np.count_nonzero(y_train == 1)\n",
    "fraction_positive_train = float(num_positive_train_samples) / float(num_train_samples)\n",
    "\n",
    "\n",
    "print(f\"Total number of training samples = {num_train_samples}\")\n",
    "print(f\"Fraction positive training samples = {fraction_positive_train}\")\n"
   ]
  },
  {
   "cell_type": "markdown",
   "metadata": {},
   "source": [
    "## Basic comparison of two vectorizers - one with counts and one using tfidf"
   ]
  },
  {
   "cell_type": "code",
   "execution_count": 29,
   "metadata": {},
   "outputs": [],
   "source": [
    "count_vectorizer = CountVectorizer(stop_words='english')\n",
    "count_vectorizer.fit_transform(x_train_text)\n",
    "x_train_text_count = count_vectorizer.transform(x_train_text).toarray()\n",
    "# count_vectorizer.vocabulary_"
   ]
  },
  {
   "cell_type": "code",
   "execution_count": 30,
   "metadata": {},
   "outputs": [
    {
     "data": {
      "text/plain": [
       "(2400, 4255)"
      ]
     },
     "execution_count": 30,
     "metadata": {},
     "output_type": "execute_result"
    }
   ],
   "source": [
    "x_train_text_count.shape"
   ]
  },
  {
   "cell_type": "markdown",
   "metadata": {},
   "source": [
    "## Cross validation "
   ]
  },
  {
   "cell_type": "code",
   "execution_count": 14,
   "metadata": {},
   "outputs": [],
   "source": [
    "cv_splitter = sklearn.model_selection.StratifiedKFold(n_splits=5)\n",
    "#cv_splitter.get_n_splits(X, y)"
   ]
  },
  {
   "cell_type": "markdown",
   "metadata": {},
   "source": [
    "## XGBoost with BoW"
   ]
  },
  {
   "cell_type": "code",
   "execution_count": 10,
   "metadata": {},
   "outputs": [],
   "source": [
    "bow_X_train, bow_X_test, bow_y_train, bow_y_test = train_test_split(x_train_text_count, y_train, test_size=480, random_state=1234)"
   ]
  },
  {
   "cell_type": "code",
   "execution_count": 11,
   "metadata": {},
   "outputs": [],
   "source": [
    "xgboost_tree = xgb.XGBClassifier()"
   ]
  },
  {
   "cell_type": "code",
   "execution_count": 13,
   "metadata": {},
   "outputs": [
    {
     "data": {
      "text/plain": [
       "XGBClassifier(base_score=0.5, booster='gbtree', colsample_bylevel=1,\n",
       "              colsample_bynode=1, colsample_bytree=1, gamma=0, gpu_id=-1,\n",
       "              importance_type='gain', interaction_constraints='',\n",
       "              learning_rate=0.300000012, max_delta_step=0, max_depth=6,\n",
       "              min_child_weight=1, missing=nan, monotone_constraints='()',\n",
       "              n_estimators=100, n_jobs=0, num_parallel_tree=1, random_state=0,\n",
       "              reg_alpha=0, reg_lambda=1, scale_pos_weight=1, subsample=1,\n",
       "              tree_method='exact', validate_parameters=1, verbosity=None)"
      ]
     },
     "execution_count": 13,
     "metadata": {},
     "output_type": "execute_result"
    }
   ],
   "source": [
    "xgboost_tree.fit(bow_X_train, bow_y_train)"
   ]
  },
  {
   "cell_type": "code",
   "execution_count": 17,
   "metadata": {},
   "outputs": [
    {
     "data": {
      "text/plain": [
       "0.7677715238690849"
      ]
     },
     "execution_count": 17,
     "metadata": {},
     "output_type": "execute_result"
    }
   ],
   "source": [
    "# make predictions for test data\n",
    "from sklearn.metrics import balanced_accuracy_score\n",
    "\n",
    "y_pred = xgboost_tree.predict(bow_X_test)\n",
    "predictions = [round(value) for value in y_pred]\n",
    "accuracy = balanced_accuracy_score(bow_y_test, predictions)\n",
    "accuracy"
   ]
  },
  {
   "cell_type": "markdown",
   "metadata": {},
   "source": [
    "## XGBoost with Word Embeddings"
   ]
  },
  {
   "cell_type": "code",
   "execution_count": 27,
   "metadata": {},
   "outputs": [],
   "source": [
    "\n",
    "\n",
    "zip_file_path = os.path.join('..',\n",
    "    'pretrained_embedding_vectors/',\n",
    "    'glove.6B.50d.txt.zip')\n",
    "\n",
    "word_embeddings = pd.read_csv(\n",
    "    zip_file_path,\n",
    "    header=None, sep=' ', index_col=0,\n",
    "    nrows=100000, compression='zip', encoding='utf-8', quoting=3)\n",
    "\n",
    "# Build a dict that will map from string word to 50-dim vector\n",
    "word_list = word_embeddings.index.values.tolist()\n",
    "word2vec = OrderedDict(zip(word_list, word_embeddings.values))"
   ]
  },
  {
   "cell_type": "code",
   "execution_count": 28,
   "metadata": {},
   "outputs": [
    {
     "data": {
      "text/plain": [
       "(2400,)"
      ]
     },
     "execution_count": 28,
     "metadata": {},
     "output_type": "execute_result"
    }
   ],
   "source": [
    "import re\n",
    "from sklearn.feature_extraction import text\n",
    "\n",
    "x_train_embeddings = np.zeros((num_train_samples, 50))\n",
    "\n",
    "for ind in range(num_train_samples):\n",
    "    sample = x_train_text[ind]\n",
    "    stripped_sample = re.sub(r'[^\\w\\s]', '', sample).lower()\n",
    "    sample_embedding = []\n",
    "    #print(f\"Current sample = {stripped_sample}\")\n",
    "    for word in stripped_sample.split(' '):\n",
    "        if word in word2vec.keys() and word not in text.ENGLISH_STOP_WORDS:\n",
    "            sample_embedding.append(word2vec[word])\n",
    "    \n",
    "    if len(sample_embedding) == 0:\n",
    "        sample_embedding = [0] * 50\n",
    "        \n",
    "    sample_embedding = np.array(sample_embedding)\n",
    "    avg_sample_embedding = np.nanmean(sample_embedding, axis=0)\n",
    "    x_train_embeddings[ind] = avg_sample_embedding\n",
    "x_train_embeddings.shape\n",
    "y_train.shape"
   ]
  },
  {
   "cell_type": "code",
   "execution_count": 42,
   "metadata": {},
   "outputs": [],
   "source": [
    "emb_X_train, emb_X_test, emb_y_train, emb_y_test = train_test_split(x_train_embeddings, y_train, test_size=480, random_state=1234)"
   ]
  },
  {
   "cell_type": "code",
   "execution_count": 43,
   "metadata": {},
   "outputs": [],
   "source": [
    "xgboost_tree_emb = xgb.XGBClassifier()"
   ]
  },
  {
   "cell_type": "code",
   "execution_count": 44,
   "metadata": {},
   "outputs": [
    {
     "data": {
      "text/plain": [
       "XGBClassifier(base_score=0.5, booster='gbtree', colsample_bylevel=1,\n",
       "              colsample_bynode=1, colsample_bytree=1, gamma=0, gpu_id=-1,\n",
       "              importance_type='gain', interaction_constraints='',\n",
       "              learning_rate=0.300000012, max_delta_step=0, max_depth=6,\n",
       "              min_child_weight=1, missing=nan, monotone_constraints='()',\n",
       "              n_estimators=100, n_jobs=0, num_parallel_tree=1, random_state=0,\n",
       "              reg_alpha=0, reg_lambda=1, scale_pos_weight=1, subsample=1,\n",
       "              tree_method='exact', validate_parameters=1, verbosity=None)"
      ]
     },
     "execution_count": 44,
     "metadata": {},
     "output_type": "execute_result"
    }
   ],
   "source": [
    "xgboost_tree_emb.fit(emb_X_train, emb_y_train)"
   ]
  },
  {
   "cell_type": "code",
   "execution_count": 46,
   "metadata": {},
   "outputs": [
    {
     "data": {
      "text/plain": [
       "(480, 50)"
      ]
     },
     "execution_count": 46,
     "metadata": {},
     "output_type": "execute_result"
    }
   ],
   "source": [
    " emb_X_test.shape"
   ]
  },
  {
   "cell_type": "code",
   "execution_count": 47,
   "metadata": {},
   "outputs": [
    {
     "data": {
      "text/plain": [
       "(480,)"
      ]
     },
     "execution_count": 47,
     "metadata": {},
     "output_type": "execute_result"
    }
   ],
   "source": [
    "emb_y_test.shape"
   ]
  },
  {
   "cell_type": "code",
   "execution_count": 48,
   "metadata": {},
   "outputs": [
    {
     "data": {
      "text/plain": [
       "0.7634980195955806"
      ]
     },
     "execution_count": 48,
     "metadata": {},
     "output_type": "execute_result"
    }
   ],
   "source": [
    "# make predictions for test data\n",
    "y_pred = xgboost_tree_emb.predict(emb_X_test)\n",
    "predictions = [round(value) for value in y_pred]\n",
    "accuracy = balanced_accuracy_score(emb_y_test, predictions)\n",
    "accuracy"
   ]
  },
  {
   "cell_type": "markdown",
   "metadata": {},
   "source": [
    "# XGBoost with Pipeline"
   ]
  },
  {
   "cell_type": "code",
   "execution_count": 6,
   "metadata": {},
   "outputs": [],
   "source": [
    "count_vectorizer = CountVectorizer(stop_words='english')\n",
    "\n",
    "# Static Parameters based on earlier grid_search \n",
    "count_vectorizer.set_params(min_df = 2, ngram_range = (1,2))\n",
    "\n",
    "# Set the tuple for the pipeline\n",
    "count_pipeline_tuple = (\"count\", count_vectorizer)"
   ]
  },
  {
   "cell_type": "code",
   "execution_count": 7,
   "metadata": {},
   "outputs": [],
   "source": [
    "tf_vectorizer = TfidfVectorizer(stop_words='english')\n",
    "\n",
    "# Static Parameters based on earlier grid_search \n",
    "tf_vectorizer.set_params(min_df = 2, ngram_range = (1,2))\n",
    "\n",
    "# Set the tuple for the pipeline\n",
    "tf_pipeline_tuple = (\"tf\", tf_vectorizer)"
   ]
  },
  {
   "cell_type": "code",
   "execution_count": 31,
   "metadata": {},
   "outputs": [],
   "source": [
    "xgb_classifier = xgb.XGBClassifier()\n",
    "# XGBoost hyperparameter grid\n",
    "xgb_parameters = {\n",
    "    \"xgb__max_depth\": [3, 6, 12],\n",
    "    \"xgb__n_estimxators\": [100,200, 500],\n",
    "}\n",
    "xgb_pipeline_tuple = ('xgb', xgb_classifier)"
   ]
  },
  {
   "cell_type": "code",
   "execution_count": 15,
   "metadata": {},
   "outputs": [
    {
     "name": "stdout",
     "output_type": "stream",
     "text": [
      "Fitting 5 folds for each of 6 candidates, totalling 30 fits\n"
     ]
    },
    {
     "name": "stderr",
     "output_type": "stream",
     "text": [
      "[Parallel(n_jobs=4)]: Using backend LokyBackend with 4 concurrent workers.\n",
      "[Parallel(n_jobs=4)]: Done  30 out of  30 | elapsed:   11.8s finished\n"
     ]
    },
    {
     "name": "stdout",
     "output_type": "stream",
     "text": [
      "[18:01:45] WARNING: /Users/travis/build/dmlc/xgboost/src/learner.cc:516: \n",
      "Parameters: { n_estimxators } might not be used.\n",
      "\n",
      "  This may not be accurate due to some parameters are only used in language bindings but\n",
      "  passed down to XGBoost core.  Or some parameters are not used but slip through this\n",
      "  verification. Please open an issue if you find above cases.\n",
      "\n",
      "\n"
     ]
    },
    {
     "data": {
      "text/plain": [
       "GridSearchCV(cv=StratifiedKFold(n_splits=5, random_state=None, shuffle=False),\n",
       "             estimator=Pipeline(steps=[('tf',\n",
       "                                        TfidfVectorizer(min_df=2,\n",
       "                                                        ngram_range=(1, 2),\n",
       "                                                        stop_words='english')),\n",
       "                                       ('xgb',\n",
       "                                        XGBClassifier(base_score=None,\n",
       "                                                      booster=None,\n",
       "                                                      colsample_bylevel=None,\n",
       "                                                      colsample_bynode=None,\n",
       "                                                      colsample_bytree=None,\n",
       "                                                      gamma=None, gpu_id=None,\n",
       "                                                      importance_type='gain',\n",
       "                                                      interaction_c...\n",
       "                                                      monotone_constraints=None,\n",
       "                                                      n_estimators=100,\n",
       "                                                      n_jobs=None,\n",
       "                                                      num_parallel_tree=None,\n",
       "                                                      random_state=None,\n",
       "                                                      reg_alpha=None,\n",
       "                                                      reg_lambda=None,\n",
       "                                                      scale_pos_weight=None,\n",
       "                                                      subsample=None,\n",
       "                                                      tree_method=None,\n",
       "                                                      validate_parameters=None,\n",
       "                                                      verbosity=None))]),\n",
       "             n_jobs=4,\n",
       "             param_grid={'xgb__max_depth': [3, 6, 12],\n",
       "                         'xgb__n_estimxators': [100, 200]},\n",
       "             return_train_score=True, scoring='balanced_accuracy', verbose=3)"
      ]
     },
     "execution_count": 15,
     "metadata": {},
     "output_type": "execute_result"
    }
   ],
   "source": [
    "tf_xgb_pipeline = Pipeline([\n",
    "    tf_pipeline_tuple,\n",
    "    xgb_pipeline_tuple,\n",
    " ])\n",
    "tf_xgb_full_grid = { \n",
    "#     **tf_parameters,\n",
    "    **xgb_parameters\n",
    "}\n",
    "\n",
    "\n",
    "tf_xgb_grid_searcher = GridSearchCV(\n",
    "    tf_xgb_pipeline, \n",
    "    tf_xgb_full_grid, \n",
    "    cv=cv_splitter, \n",
    "    n_jobs=4,  \n",
    "    verbose=3,\n",
    "    scoring='balanced_accuracy',\n",
    "    return_train_score=True\n",
    ")\n",
    "tf_xgb_grid_searcher.fit(x_train_text, y_train)"
   ]
  },
  {
   "cell_type": "code",
   "execution_count": 20,
   "metadata": {},
   "outputs": [
    {
     "name": "stdout",
     "output_type": "stream",
     "text": [
      "Dataframe has shape: (6, 22)\n",
      "Number of trials used in grid search:  6\n"
     ]
    },
    {
     "data": {
      "text/html": [
       "<div>\n",
       "<style scoped>\n",
       "    .dataframe tbody tr th:only-of-type {\n",
       "        vertical-align: middle;\n",
       "    }\n",
       "\n",
       "    .dataframe tbody tr th {\n",
       "        vertical-align: top;\n",
       "    }\n",
       "\n",
       "    .dataframe thead th {\n",
       "        text-align: right;\n",
       "    }\n",
       "</style>\n",
       "<table border=\"1\" class=\"dataframe\">\n",
       "  <thead>\n",
       "    <tr style=\"text-align: right;\">\n",
       "      <th></th>\n",
       "      <th>param_xgb__max_depth</th>\n",
       "      <th>param_xgb__n_estimxators</th>\n",
       "      <th>mean_train_score</th>\n",
       "      <th>mean_test_score</th>\n",
       "      <th>mean_fit_time</th>\n",
       "      <th>rank_test_score</th>\n",
       "    </tr>\n",
       "  </thead>\n",
       "  <tbody>\n",
       "    <tr>\n",
       "      <th>2</th>\n",
       "      <td>6</td>\n",
       "      <td>100</td>\n",
       "      <td>0.870625</td>\n",
       "      <td>0.754167</td>\n",
       "      <td>0.954478</td>\n",
       "      <td>1</td>\n",
       "    </tr>\n",
       "    <tr>\n",
       "      <th>3</th>\n",
       "      <td>6</td>\n",
       "      <td>200</td>\n",
       "      <td>0.870625</td>\n",
       "      <td>0.754167</td>\n",
       "      <td>0.939046</td>\n",
       "      <td>1</td>\n",
       "    </tr>\n",
       "    <tr>\n",
       "      <th>0</th>\n",
       "      <td>3</td>\n",
       "      <td>100</td>\n",
       "      <td>0.833021</td>\n",
       "      <td>0.752500</td>\n",
       "      <td>0.645268</td>\n",
       "      <td>3</td>\n",
       "    </tr>\n",
       "    <tr>\n",
       "      <th>1</th>\n",
       "      <td>3</td>\n",
       "      <td>200</td>\n",
       "      <td>0.833021</td>\n",
       "      <td>0.752500</td>\n",
       "      <td>0.624440</td>\n",
       "      <td>3</td>\n",
       "    </tr>\n",
       "    <tr>\n",
       "      <th>4</th>\n",
       "      <td>12</td>\n",
       "      <td>100</td>\n",
       "      <td>0.910729</td>\n",
       "      <td>0.740417</td>\n",
       "      <td>1.351520</td>\n",
       "      <td>5</td>\n",
       "    </tr>\n",
       "    <tr>\n",
       "      <th>5</th>\n",
       "      <td>12</td>\n",
       "      <td>200</td>\n",
       "      <td>0.910729</td>\n",
       "      <td>0.740417</td>\n",
       "      <td>1.200302</td>\n",
       "      <td>5</td>\n",
       "    </tr>\n",
       "  </tbody>\n",
       "</table>\n",
       "</div>"
      ],
      "text/plain": [
       "  param_xgb__max_depth param_xgb__n_estimxators  mean_train_score  \\\n",
       "2                    6                      100          0.870625   \n",
       "3                    6                      200          0.870625   \n",
       "0                    3                      100          0.833021   \n",
       "1                    3                      200          0.833021   \n",
       "4                   12                      100          0.910729   \n",
       "5                   12                      200          0.910729   \n",
       "\n",
       "   mean_test_score  mean_fit_time  rank_test_score  \n",
       "2         0.754167       0.954478                1  \n",
       "3         0.754167       0.939046                1  \n",
       "0         0.752500       0.645268                3  \n",
       "1         0.752500       0.624440                3  \n",
       "4         0.740417       1.351520                5  \n",
       "5         0.740417       1.200302                5  "
      ]
     },
     "execution_count": 20,
     "metadata": {},
     "output_type": "execute_result"
    }
   ],
   "source": [
    "print_gridsearch_results(tf_xgb_grid_searcher, list(tf_xgb_full_grid.keys()))"
   ]
  },
  {
   "cell_type": "code",
   "execution_count": 21,
   "metadata": {},
   "outputs": [
    {
     "name": "stdout",
     "output_type": "stream",
     "text": [
      "Fitting 5 folds for each of 6 candidates, totalling 30 fits\n"
     ]
    },
    {
     "name": "stderr",
     "output_type": "stream",
     "text": [
      "[Parallel(n_jobs=4)]: Using backend LokyBackend with 4 concurrent workers.\n",
      "[Parallel(n_jobs=4)]: Done  30 out of  30 | elapsed:    6.9s finished\n"
     ]
    },
    {
     "name": "stdout",
     "output_type": "stream",
     "text": [
      "[18:05:13] WARNING: /Users/travis/build/dmlc/xgboost/src/learner.cc:516: \n",
      "Parameters: { n_estimxators } might not be used.\n",
      "\n",
      "  This may not be accurate due to some parameters are only used in language bindings but\n",
      "  passed down to XGBoost core.  Or some parameters are not used but slip through this\n",
      "  verification. Please open an issue if you find above cases.\n",
      "\n",
      "\n"
     ]
    },
    {
     "data": {
      "text/plain": [
       "GridSearchCV(cv=StratifiedKFold(n_splits=5, random_state=None, shuffle=False),\n",
       "             estimator=Pipeline(steps=[('count',\n",
       "                                        CountVectorizer(min_df=2,\n",
       "                                                        ngram_range=(1, 2),\n",
       "                                                        stop_words='english')),\n",
       "                                       ('xgb',\n",
       "                                        XGBClassifier(base_score=None,\n",
       "                                                      booster=None,\n",
       "                                                      colsample_bylevel=None,\n",
       "                                                      colsample_bynode=None,\n",
       "                                                      colsample_bytree=None,\n",
       "                                                      gamma=None, gpu_id=None,\n",
       "                                                      importance_type='gain',\n",
       "                                                      interactio...\n",
       "                                                      monotone_constraints=None,\n",
       "                                                      n_estimators=100,\n",
       "                                                      n_jobs=None,\n",
       "                                                      num_parallel_tree=None,\n",
       "                                                      random_state=None,\n",
       "                                                      reg_alpha=None,\n",
       "                                                      reg_lambda=None,\n",
       "                                                      scale_pos_weight=None,\n",
       "                                                      subsample=None,\n",
       "                                                      tree_method=None,\n",
       "                                                      validate_parameters=None,\n",
       "                                                      verbosity=None))]),\n",
       "             n_jobs=4,\n",
       "             param_grid={'xgb__max_depth': [3, 6, 12],\n",
       "                         'xgb__n_estimxators': [100, 200]},\n",
       "             return_train_score=True, scoring='balanced_accuracy', verbose=3)"
      ]
     },
     "execution_count": 21,
     "metadata": {},
     "output_type": "execute_result"
    }
   ],
   "source": [
    "count_xgb_pipeline = Pipeline([\n",
    "    count_pipeline_tuple,\n",
    "    xgb_pipeline_tuple,\n",
    " ])\n",
    "count_xgb_full_grid = { \n",
    "#     **count_parameters,\n",
    "    **xgb_parameters\n",
    "}\n",
    "\n",
    "\n",
    "count_xgb_grid_searcher = GridSearchCV(\n",
    "    count_xgb_pipeline, \n",
    "    count_xgb_full_grid, \n",
    "    cv=cv_splitter, \n",
    "    n_jobs=4,  \n",
    "    verbose=3,\n",
    "    scoring='balanced_accuracy',\n",
    "    return_train_score=True\n",
    ")\n",
    "count_xgb_grid_searcher.fit(x_train_text, y_train)"
   ]
  },
  {
   "cell_type": "code",
   "execution_count": 23,
   "metadata": {},
   "outputs": [
    {
     "name": "stdout",
     "output_type": "stream",
     "text": [
      "Dataframe has shape: (6, 22)\n",
      "Number of trials used in grid search:  6\n"
     ]
    },
    {
     "data": {
      "text/html": [
       "<div>\n",
       "<style scoped>\n",
       "    .dataframe tbody tr th:only-of-type {\n",
       "        vertical-align: middle;\n",
       "    }\n",
       "\n",
       "    .dataframe tbody tr th {\n",
       "        vertical-align: top;\n",
       "    }\n",
       "\n",
       "    .dataframe thead th {\n",
       "        text-align: right;\n",
       "    }\n",
       "</style>\n",
       "<table border=\"1\" class=\"dataframe\">\n",
       "  <thead>\n",
       "    <tr style=\"text-align: right;\">\n",
       "      <th></th>\n",
       "      <th>param_xgb__max_depth</th>\n",
       "      <th>param_xgb__n_estimxators</th>\n",
       "      <th>mean_train_score</th>\n",
       "      <th>mean_test_score</th>\n",
       "      <th>mean_fit_time</th>\n",
       "      <th>rank_test_score</th>\n",
       "    </tr>\n",
       "  </thead>\n",
       "  <tbody>\n",
       "    <tr>\n",
       "      <th>2</th>\n",
       "      <td>6</td>\n",
       "      <td>100</td>\n",
       "      <td>0.845625</td>\n",
       "      <td>0.763750</td>\n",
       "      <td>0.772862</td>\n",
       "      <td>1</td>\n",
       "    </tr>\n",
       "    <tr>\n",
       "      <th>3</th>\n",
       "      <td>6</td>\n",
       "      <td>200</td>\n",
       "      <td>0.845625</td>\n",
       "      <td>0.763750</td>\n",
       "      <td>0.665860</td>\n",
       "      <td>1</td>\n",
       "    </tr>\n",
       "    <tr>\n",
       "      <th>4</th>\n",
       "      <td>12</td>\n",
       "      <td>100</td>\n",
       "      <td>0.868750</td>\n",
       "      <td>0.755833</td>\n",
       "      <td>0.961692</td>\n",
       "      <td>3</td>\n",
       "    </tr>\n",
       "    <tr>\n",
       "      <th>5</th>\n",
       "      <td>12</td>\n",
       "      <td>200</td>\n",
       "      <td>0.868750</td>\n",
       "      <td>0.755833</td>\n",
       "      <td>0.869550</td>\n",
       "      <td>3</td>\n",
       "    </tr>\n",
       "    <tr>\n",
       "      <th>0</th>\n",
       "      <td>3</td>\n",
       "      <td>100</td>\n",
       "      <td>0.808333</td>\n",
       "      <td>0.750417</td>\n",
       "      <td>0.467756</td>\n",
       "      <td>5</td>\n",
       "    </tr>\n",
       "    <tr>\n",
       "      <th>1</th>\n",
       "      <td>3</td>\n",
       "      <td>200</td>\n",
       "      <td>0.808333</td>\n",
       "      <td>0.750417</td>\n",
       "      <td>0.490570</td>\n",
       "      <td>5</td>\n",
       "    </tr>\n",
       "  </tbody>\n",
       "</table>\n",
       "</div>"
      ],
      "text/plain": [
       "  param_xgb__max_depth param_xgb__n_estimxators  mean_train_score  \\\n",
       "2                    6                      100          0.845625   \n",
       "3                    6                      200          0.845625   \n",
       "4                   12                      100          0.868750   \n",
       "5                   12                      200          0.868750   \n",
       "0                    3                      100          0.808333   \n",
       "1                    3                      200          0.808333   \n",
       "\n",
       "   mean_test_score  mean_fit_time  rank_test_score  \n",
       "2         0.763750       0.772862                1  \n",
       "3         0.763750       0.665860                1  \n",
       "4         0.755833       0.961692                3  \n",
       "5         0.755833       0.869550                3  \n",
       "0         0.750417       0.467756                5  \n",
       "1         0.750417       0.490570                5  "
      ]
     },
     "execution_count": 23,
     "metadata": {},
     "output_type": "execute_result"
    }
   ],
   "source": [
    "print_gridsearch_results(count_xgb_grid_searcher, list(count_xgb_full_grid.keys()))"
   ]
  },
  {
   "cell_type": "code",
   "execution_count": null,
   "metadata": {},
   "outputs": [],
   "source": []
  },
  {
   "cell_type": "code",
   "execution_count": 32,
   "metadata": {},
   "outputs": [
    {
     "name": "stdout",
     "output_type": "stream",
     "text": [
      "Fitting 5 folds for each of 9 candidates, totalling 45 fits\n"
     ]
    },
    {
     "name": "stderr",
     "output_type": "stream",
     "text": [
      "[Parallel(n_jobs=4)]: Using backend LokyBackend with 4 concurrent workers.\n",
      "[Parallel(n_jobs=4)]: Done  24 tasks      | elapsed:   12.5s\n",
      "[Parallel(n_jobs=4)]: Done  45 out of  45 | elapsed:   29.8s finished\n"
     ]
    },
    {
     "name": "stdout",
     "output_type": "stream",
     "text": [
      "[18:09:39] WARNING: /Users/travis/build/dmlc/xgboost/src/learner.cc:516: \n",
      "Parameters: { n_estimxators } might not be used.\n",
      "\n",
      "  This may not be accurate due to some parameters are only used in language bindings but\n",
      "  passed down to XGBoost core.  Or some parameters are not used but slip through this\n",
      "  verification. Please open an issue if you find above cases.\n",
      "\n",
      "\n"
     ]
    },
    {
     "data": {
      "text/plain": [
       "GridSearchCV(cv=StratifiedKFold(n_splits=5, random_state=None, shuffle=False),\n",
       "             estimator=Pipeline(steps=[('xgb',\n",
       "                                        XGBClassifier(base_score=None,\n",
       "                                                      booster=None,\n",
       "                                                      colsample_bylevel=None,\n",
       "                                                      colsample_bynode=None,\n",
       "                                                      colsample_bytree=None,\n",
       "                                                      gamma=None, gpu_id=None,\n",
       "                                                      importance_type='gain',\n",
       "                                                      interaction_constraints=None,\n",
       "                                                      learning_rate=None,\n",
       "                                                      max_delta_step=None,\n",
       "                                                      max_depth=None,\n",
       "                                                      mi...\n",
       "                                                      monotone_constraints=None,\n",
       "                                                      n_estimators=100,\n",
       "                                                      n_jobs=None,\n",
       "                                                      num_parallel_tree=None,\n",
       "                                                      random_state=None,\n",
       "                                                      reg_alpha=None,\n",
       "                                                      reg_lambda=None,\n",
       "                                                      scale_pos_weight=None,\n",
       "                                                      subsample=None,\n",
       "                                                      tree_method=None,\n",
       "                                                      validate_parameters=None,\n",
       "                                                      verbosity=None))]),\n",
       "             n_jobs=4,\n",
       "             param_grid={'xgb__max_depth': [3, 6, 12],\n",
       "                         'xgb__n_estimxators': [100, 200, 500]},\n",
       "             return_train_score=True, scoring='balanced_accuracy', verbose=3)"
      ]
     },
     "execution_count": 32,
     "metadata": {},
     "output_type": "execute_result"
    }
   ],
   "source": [
    "embedding_xgb_pipeline = Pipeline([\n",
    "    #count_pipeline_tuple,\n",
    "    xgb_pipeline_tuple,\n",
    " ])\n",
    "embedding_xgb_full_grid = { \n",
    "#     **count_parameters,\n",
    "    **xgb_parameters\n",
    "}\n",
    "\n",
    "\n",
    "embedding_xgb_grid_searcher = GridSearchCV(\n",
    "    embedding_xgb_pipeline, \n",
    "    embedding_xgb_full_grid, \n",
    "    cv=cv_splitter, \n",
    "    n_jobs=4,  \n",
    "    verbose=3,\n",
    "    scoring='balanced_accuracy',\n",
    "    return_train_score=True\n",
    ")\n",
    "embedding_xgb_grid_searcher.fit(x_train_embeddings, y_train)"
   ]
  },
  {
   "cell_type": "code",
   "execution_count": 33,
   "metadata": {},
   "outputs": [
    {
     "name": "stdout",
     "output_type": "stream",
     "text": [
      "Dataframe has shape: (9, 22)\n",
      "Number of trials used in grid search:  9\n"
     ]
    },
    {
     "data": {
      "text/html": [
       "<div>\n",
       "<style scoped>\n",
       "    .dataframe tbody tr th:only-of-type {\n",
       "        vertical-align: middle;\n",
       "    }\n",
       "\n",
       "    .dataframe tbody tr th {\n",
       "        vertical-align: top;\n",
       "    }\n",
       "\n",
       "    .dataframe thead th {\n",
       "        text-align: right;\n",
       "    }\n",
       "</style>\n",
       "<table border=\"1\" class=\"dataframe\">\n",
       "  <thead>\n",
       "    <tr style=\"text-align: right;\">\n",
       "      <th></th>\n",
       "      <th>param_xgb__max_depth</th>\n",
       "      <th>param_xgb__n_estimxators</th>\n",
       "      <th>mean_train_score</th>\n",
       "      <th>mean_test_score</th>\n",
       "      <th>mean_fit_time</th>\n",
       "      <th>rank_test_score</th>\n",
       "    </tr>\n",
       "  </thead>\n",
       "  <tbody>\n",
       "    <tr>\n",
       "      <th>3</th>\n",
       "      <td>6</td>\n",
       "      <td>100</td>\n",
       "      <td>0.996354</td>\n",
       "      <td>0.744167</td>\n",
       "      <td>2.480110</td>\n",
       "      <td>1</td>\n",
       "    </tr>\n",
       "    <tr>\n",
       "      <th>4</th>\n",
       "      <td>6</td>\n",
       "      <td>200</td>\n",
       "      <td>0.996354</td>\n",
       "      <td>0.744167</td>\n",
       "      <td>3.020294</td>\n",
       "      <td>1</td>\n",
       "    </tr>\n",
       "    <tr>\n",
       "      <th>5</th>\n",
       "      <td>6</td>\n",
       "      <td>500</td>\n",
       "      <td>0.996354</td>\n",
       "      <td>0.744167</td>\n",
       "      <td>2.831381</td>\n",
       "      <td>1</td>\n",
       "    </tr>\n",
       "    <tr>\n",
       "      <th>6</th>\n",
       "      <td>12</td>\n",
       "      <td>100</td>\n",
       "      <td>0.996354</td>\n",
       "      <td>0.738750</td>\n",
       "      <td>3.555784</td>\n",
       "      <td>4</td>\n",
       "    </tr>\n",
       "    <tr>\n",
       "      <th>7</th>\n",
       "      <td>12</td>\n",
       "      <td>200</td>\n",
       "      <td>0.996354</td>\n",
       "      <td>0.738750</td>\n",
       "      <td>3.540635</td>\n",
       "      <td>4</td>\n",
       "    </tr>\n",
       "    <tr>\n",
       "      <th>8</th>\n",
       "      <td>12</td>\n",
       "      <td>500</td>\n",
       "      <td>0.996354</td>\n",
       "      <td>0.738750</td>\n",
       "      <td>3.126286</td>\n",
       "      <td>4</td>\n",
       "    </tr>\n",
       "    <tr>\n",
       "      <th>0</th>\n",
       "      <td>3</td>\n",
       "      <td>100</td>\n",
       "      <td>0.978437</td>\n",
       "      <td>0.736250</td>\n",
       "      <td>1.282030</td>\n",
       "      <td>7</td>\n",
       "    </tr>\n",
       "    <tr>\n",
       "      <th>1</th>\n",
       "      <td>3</td>\n",
       "      <td>200</td>\n",
       "      <td>0.978437</td>\n",
       "      <td>0.736250</td>\n",
       "      <td>1.258519</td>\n",
       "      <td>7</td>\n",
       "    </tr>\n",
       "    <tr>\n",
       "      <th>2</th>\n",
       "      <td>3</td>\n",
       "      <td>500</td>\n",
       "      <td>0.978437</td>\n",
       "      <td>0.736250</td>\n",
       "      <td>1.199993</td>\n",
       "      <td>7</td>\n",
       "    </tr>\n",
       "  </tbody>\n",
       "</table>\n",
       "</div>"
      ],
      "text/plain": [
       "  param_xgb__max_depth param_xgb__n_estimxators  mean_train_score  \\\n",
       "3                    6                      100          0.996354   \n",
       "4                    6                      200          0.996354   \n",
       "5                    6                      500          0.996354   \n",
       "6                   12                      100          0.996354   \n",
       "7                   12                      200          0.996354   \n",
       "8                   12                      500          0.996354   \n",
       "0                    3                      100          0.978437   \n",
       "1                    3                      200          0.978437   \n",
       "2                    3                      500          0.978437   \n",
       "\n",
       "   mean_test_score  mean_fit_time  rank_test_score  \n",
       "3         0.744167       2.480110                1  \n",
       "4         0.744167       3.020294                1  \n",
       "5         0.744167       2.831381                1  \n",
       "6         0.738750       3.555784                4  \n",
       "7         0.738750       3.540635                4  \n",
       "8         0.738750       3.126286                4  \n",
       "0         0.736250       1.282030                7  \n",
       "1         0.736250       1.258519                7  \n",
       "2         0.736250       1.199993                7  "
      ]
     },
     "execution_count": 33,
     "metadata": {},
     "output_type": "execute_result"
    }
   ],
   "source": [
    "print_gridsearch_results(embedding_xgb_grid_searcher, list(embedding_xgb_full_grid.keys()))"
   ]
  },
  {
   "cell_type": "code",
   "execution_count": null,
   "metadata": {},
   "outputs": [],
   "source": []
  }
 ],
 "metadata": {
  "kernelspec": {
   "display_name": "Python 3",
   "language": "python",
   "name": "python3"
  },
  "language_info": {
   "codemirror_mode": {
    "name": "ipython",
    "version": 3
   },
   "file_extension": ".py",
   "mimetype": "text/x-python",
   "name": "python",
   "nbconvert_exporter": "python",
   "pygments_lexer": "ipython3",
   "version": "3.7.3"
  }
 },
 "nbformat": 4,
 "nbformat_minor": 4
}
